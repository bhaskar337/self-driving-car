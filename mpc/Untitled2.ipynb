{
 "cells": [
  {
   "cell_type": "code",
   "execution_count": 53,
   "metadata": {
    "collapsed": true
   },
   "outputs": [],
   "source": [
    "import numpy as np\n",
    "from scipy.optimize import minimize"
   ]
  },
  {
   "cell_type": "code",
   "execution_count": 54,
   "metadata": {
    "collapsed": true
   },
   "outputs": [],
   "source": [
    "N = 10\n",
    "dt = 0.1\n",
    "Lf = 2.67\n",
    "\n",
    "ref_cte  = 0\n",
    "ref_epsi = 0\n",
    "ref_v = 60\n",
    "\n",
    "x_start      = 0\n",
    "y_start      = x_start       + N\n",
    "psi_start    = y_start       + N\n",
    "v_start      = psi_start     + N\n",
    "cte_start    = v_start       + N\n",
    "epsi_start   = cte_start     + N\n",
    "delta_start  = epsi_start    + N\n",
    "a_start      = delta_start   + N - 1"
   ]
  },
  {
   "cell_type": "code",
   "execution_count": 55,
   "metadata": {
    "collapsed": true
   },
   "outputs": [],
   "source": [
    "cte_weight = 200\n",
    "epsi_weight = 200\n",
    "v_weight = 10\n",
    "actuator_cost_weight = 1\n",
    "change_steer_cost_weight = 10000\n",
    "change_acc_cost_weight = 1000\n",
    "\n",
    "def objective(vars):\n",
    "    cost = 0\n",
    "    # cost due to difference from reference values\n",
    "    for t in range(N):\n",
    "        cost += cte_weight * (vars[cte_start + t] - ref_cte) ** 2\n",
    "        cost += epsi_weight * (vars[epsi_start + t] - ref_epsi) ** 2\n",
    "        cost += v_weight * (vars[v_start + t] - ref_v) ** 2\n",
    "    \n",
    "    # cost due to magnitude of actuators\n",
    "    for t in range(N-1):\n",
    "        cost += actuator_cost_weight * (vars[delta_start + t]) ** 2\n",
    "        cost += actuator_cost_weight * (vars[a_start + t]) ** 2\n",
    "         \n",
    "    # cost due to magnitude of change in actuators\n",
    "    for t in range(N-2):\n",
    "        cost += change_steer_cost_weight * (vars[delta_start + t + 1] - vars[delta_start + t]) ** 2\n",
    "        cost += change_acc_cost_weight * (vars[a_start + t + 1] - vars[a_start + t]) ** 2\n",
    "     \n",
    "    return np.log(cost)\n"
   ]
  },
  {
   "cell_type": "code",
   "execution_count": 72,
   "metadata": {
    "collapsed": true
   },
   "outputs": [],
   "source": [
    "def get_constraints():\n",
    "#     coeffs = np.array([\n",
    "#         (0, 0.0),\n",
    "#         (0, 10.0),\n",
    "#         (0, 20.0),\n",
    "#         (0, 30.0)\n",
    "#     ])\n",
    "#     coeffs = np.array([\n",
    "#         (0.0, 0),\n",
    "#         (10.0, 0),\n",
    "#         (20.0, 0),\n",
    "#         (30.0, 0)\n",
    "#     ])\n",
    "    coeffs =  [ 1.375,  1.   ,  0.625,  2.5  ]\n",
    "    constraints = [None] * (N * 6 + 1)\n",
    "    constraints[x_start] = lambda vars: vars[x_start]\n",
    "    constraints[y_start] = lambda vars: vars[y_start]\n",
    "    constraints[psi_start] =  lambda vars: vars[psi_start]\n",
    "#     constraints[v_start] =  lambda vars: vars[v_start]- 70\n",
    "#     constraints[v_start+1] =  lambda vars: vars[v_start] - 70\n",
    "    constraints[cte_start] =  lambda vars: vars[cte_start]\n",
    "    constraints[epsi_start] =  lambda vars: vars[epsi_start]\n",
    "    \n",
    "    for t in range(1, N):\n",
    "        # var0 at time (t) and var1 at time (t+1)\n",
    "        # t=t for early binding\n",
    "        def cons_x(vars, t=t):\n",
    "            x0 = vars[x_start + t - 1]\n",
    "            x1 = vars[x_start + t]\n",
    "            v0 = vars[v_start + t - 1]\n",
    "            psi0 = vars[psi_start + t - 1]\n",
    "            return x1 - (x0 + v0 * np.cos(psi0) * dt)\n",
    "        \n",
    "        def cons_y(vars, t=t):\n",
    "            y0 = vars[y_start + t - 1]\n",
    "            y1 = vars[y_start + t]\n",
    "            v0 = vars[v_start + t - 1]\n",
    "            psi0 = vars[psi_start + t - 1]\n",
    "            return y1 - (y0 + v0 * np.sin(psi0) * dt)\n",
    "        \n",
    "        def cons_psi(vars, t=t):\n",
    "            v0 = vars[v_start + t - 1]\n",
    "            psi0 = vars[psi_start + t - 1]\n",
    "            psi1 = vars[psi_start + t]\n",
    "            delta0 = vars[delta_start + t - 1]\n",
    "            return psi1 - (psi0 - v0 * delta0 / Lf * dt)\n",
    "        \n",
    "        def cons_v(vars, t=t):\n",
    "            v0 = vars[v_start + t - 1]\n",
    "            v1 = vars[v_start + t]\n",
    "            a0 = vars[a_start + t - 1]\n",
    "            return v1 - (v0 + a0 * dt)\n",
    "        \n",
    "        def cons_cte(vars, t=t):\n",
    "            x0 = vars[x_start + t - 1]\n",
    "            y0 = vars[y_start + t - 1]\n",
    "            v0 = vars[v_start + t - 1]\n",
    "            f0 = coeffs[0] + coeffs[1] * x0 + coeffs[2] * x0 ** 2 + coeffs[3] * x0 ** 3\n",
    "            cte1 = vars[cte_start + t]\n",
    "            epsi0 = vars[epsi_start + t - 1]\n",
    "            return cte1 - (f0 - y0 + (v0 * np.sin(epsi0) * dt))\n",
    "        \n",
    "        def cons_epsi(vars, t=t):\n",
    "            x0 = vars[x_start + t - 1]\n",
    "            psi0 = vars[psi_start + t - 1]\n",
    "            v0 = vars[v_start + t - 1]\n",
    "            delta0 = vars[delta_start + t - 1]\n",
    "            psides0 = np.arctan(coeffs[1] + 2 * coeffs[2] * x0 + 3 * coeffs[3] * x0 ** 2)\n",
    "            epsi1 = vars[epsi_start + t]\n",
    "            return epsi1 - (psi0 - psides0 - v0 * delta0 / Lf * dt)\n",
    "        \n",
    "        constraints[x_start + t] =  cons_x\n",
    "        constraints[y_start + t] = cons_y\n",
    "        constraints[psi_start + t] = cons_psi\n",
    "        constraints[v_start + t + 1] = cons_v\n",
    "        constraints[cte_start + t] = cons_cte\n",
    "        constraints[epsi_start + t] = cons_epsi\n",
    "        \n",
    "#     constraints.append(lambda vars: vars[v_start] - 20)\n",
    "    return constraints\n",
    "\n",
    "\n",
    "constraints = [{'type': 'eq', 'fun': func} for func in get_constraints() if func is not None]\n",
    "# for i in constraints:\n",
    "#     print(i['fun'](vars))"
   ]
  },
  {
   "cell_type": "code",
   "execution_count": 73,
   "metadata": {
    "collapsed": true
   },
   "outputs": [],
   "source": [
    "import sys\n",
    "n_vars = N * 6 + (N - 1) * 2\n",
    "n_contrains = N * 6\n",
    "bounds = [None] * n_vars\n",
    "vars = [0] * n_vars\n",
    "\n",
    "for i in range(delta_start):\n",
    "    bounds[i] = (np.finfo(np.float16).min, np.finfo(np.float16).max)\n",
    "    bounds[i] = [-1000, 1000]\n",
    "\n",
    "max_radians = 25 * np.pi / 180\n",
    "for i in range(delta_start, a_start):\n",
    "    bounds[i] = (-max_radians, max_radians)\n",
    "    \n",
    "max_acc_value = 1.0\n",
    "for i in range(a_start, n_vars):\n",
    "    bounds[i] = (-max_acc_value, max_acc_value)\n",
    "\n",
    "speed = 70\n",
    "# vars[v_start] = speed\n",
    "bounds[v_start] = (speed, speed)"
   ]
  },
  {
   "cell_type": "code",
   "execution_count": 74,
   "metadata": {},
   "outputs": [
    {
     "name": "stdout",
     "output_type": "stream",
     "text": [
      "Positive directional derivative for linesearch    (Exit mode 8)\n",
      "            Current function value: 20.21176320141177\n",
      "            Iterations: 188\n",
      "            Function evaluations: 14872\n",
      "            Gradient evaluations: 184\n",
      "False\n",
      "Positive directional derivative for linesearch\n"
     ]
    }
   ],
   "source": [
    "solution = minimize(objective, vars, bounds=bounds, constraints=constraints, options={'disp':True, 'maxiter':1000})\n",
    "print(solution.success)\n",
    "print(solution.message)"
   ]
  },
  {
   "cell_type": "code",
   "execution_count": 272,
   "metadata": {},
   "outputs": [
    {
     "name": "stdout",
     "output_type": "stream",
     "text": [
      "-1.0\n",
      "-1.0\n",
      "-1.0\n",
      "-1.0\n",
      "-1.0\n",
      "-1.0\n",
      "-1.0\n",
      "0.9999999999994412\n",
      "1.0\n"
     ]
    }
   ],
   "source": [
    "for i in range(N-1):\n",
    "    print(solution.x[a_start+i])"
   ]
  },
  {
   "cell_type": "markdown",
   "metadata": {},
   "source": [
    "solution.x"
   ]
  },
  {
   "cell_type": "code",
   "execution_count": 187,
   "metadata": {},
   "outputs": [
    {
     "name": "stdout",
     "output_type": "stream",
     "text": [
      "[0. 0. 0. 0. 0. 0. 0. 0. 0. 0. 0. 0. 0. 0. 0. 0. 0. 0. 0. 0. 0. 0. 0. 0.\n",
      " 0. 0. 0. 0. 0. 0. 0. 0. 0. 0. 0. 0. 0. 0. 0. 0. 0. 0. 0. 0. 0. 0. 0. 0.\n",
      " 0. 0. 0. 0. 0. 0. 0. 0. 0. 0. 0. 0. 0. 0. 0. 0. 0. 0. 0. 0. 0. 0. 0. 0.\n",
      " 0. 0. 0. 0. 0. 0.]\n"
     ]
    }
   ],
   "source": [
    "print(vars)"
   ]
  },
  {
   "cell_type": "code",
   "execution_count": 132,
   "metadata": {},
   "outputs": [
    {
     "ename": "NameError",
     "evalue": "name 'contrainsts' is not defined",
     "output_type": "error",
     "traceback": [
      "\u001b[1;31m---------------------------------------------------------------------------\u001b[0m",
      "\u001b[1;31mNameError\u001b[0m                                 Traceback (most recent call last)",
      "\u001b[1;32m<ipython-input-132-df6be60cf292>\u001b[0m in \u001b[0;36m<module>\u001b[1;34m()\u001b[0m\n\u001b[1;32m----> 1\u001b[1;33m \u001b[0mcontrainsts\u001b[0m\u001b[1;33m\u001b[0m\u001b[0m\n\u001b[0m",
      "\u001b[1;31mNameError\u001b[0m: name 'contrainsts' is not defined"
     ]
    }
   ],
   "source": [
    "contrainsts"
   ]
  },
  {
   "cell_type": "code",
   "execution_count": 68,
   "metadata": {},
   "outputs": [
    {
     "name": "stdout",
     "output_type": "stream",
     "text": [
      "0.9999999999999899 0.4255463520092819\n",
      "0.9999999999999617 0.42753375280266614\n",
      "0.9999999999999112 0.4303920812947667\n",
      "0.9999999999998364 0.43322405909024947\n",
      "0.9999999999963555 0.4353533365169461\n",
      "0.9999999999888491 0.43633231299602454\n",
      "0.9999999999807816 0.43633231299600805\n",
      "0.999999999976781 0.43633231299602765\n",
      "0.9999999999883126 0.43633231299606623\n"
     ]
    },
    {
     "ename": "IndexError",
     "evalue": "index 78 is out of bounds for axis 0 with size 78",
     "output_type": "error",
     "traceback": [
      "\u001b[1;31m---------------------------------------------------------------------------\u001b[0m",
      "\u001b[1;31mIndexError\u001b[0m                                Traceback (most recent call last)",
      "\u001b[1;32m<ipython-input-68-aaa37b5e44d6>\u001b[0m in \u001b[0;36m<module>\u001b[1;34m()\u001b[0m\n\u001b[0;32m      1\u001b[0m \u001b[1;32mfor\u001b[0m \u001b[0mi\u001b[0m \u001b[1;32min\u001b[0m \u001b[0mrange\u001b[0m\u001b[1;33m(\u001b[0m\u001b[0mN\u001b[0m\u001b[1;33m)\u001b[0m\u001b[1;33m:\u001b[0m\u001b[1;33m\u001b[0m\u001b[0m\n\u001b[1;32m----> 2\u001b[1;33m     \u001b[0mprint\u001b[0m\u001b[1;33m(\u001b[0m\u001b[0msolution\u001b[0m\u001b[1;33m.\u001b[0m\u001b[0mx\u001b[0m\u001b[1;33m[\u001b[0m\u001b[0ma_start\u001b[0m\u001b[1;33m+\u001b[0m\u001b[0mi\u001b[0m\u001b[1;33m]\u001b[0m\u001b[1;33m,\u001b[0m \u001b[0msolution\u001b[0m\u001b[1;33m.\u001b[0m\u001b[0mx\u001b[0m\u001b[1;33m[\u001b[0m\u001b[0mdelta_start\u001b[0m\u001b[1;33m+\u001b[0m\u001b[0mi\u001b[0m\u001b[1;33m]\u001b[0m\u001b[1;33m)\u001b[0m\u001b[1;33m\u001b[0m\u001b[0m\n\u001b[0m",
      "\u001b[1;31mIndexError\u001b[0m: index 78 is out of bounds for axis 0 with size 78"
     ]
    }
   ],
   "source": [
    "for i in range(N):\n",
    "    print(solution.x[a_start+i], solution.x[delta_start+i])"
   ]
  },
  {
   "cell_type": "code",
   "execution_count": 995,
   "metadata": {},
   "outputs": [
    {
     "name": "stdout",
     "output_type": "stream",
     "text": [
      "None\n",
      "<function get_constraints.<locals>.cons_x at 0x00000213F8431AE8>\n",
      "<function get_constraints.<locals>.cons_x at 0x00000213FEE11BF8>\n",
      "<function get_constraints.<locals>.cons_x at 0x00000213FEF701E0>\n",
      "<function get_constraints.<locals>.cons_x at 0x00000213FEF70EA0>\n",
      "<function get_constraints.<locals>.cons_x at 0x00000213FEF70620>\n",
      "<function get_constraints.<locals>.cons_x at 0x00000213F8453730>\n",
      "<function get_constraints.<locals>.cons_x at 0x00000213FEEF9F28>\n",
      "<function get_constraints.<locals>.cons_x at 0x00000213FEF34620>\n",
      "<function get_constraints.<locals>.cons_x at 0x00000213FEF34268>\n",
      "None\n",
      "<function get_constraints.<locals>.cons_y at 0x00000213F8431C80>\n",
      "<function get_constraints.<locals>.cons_y at 0x00000213FEE11268>\n",
      "<function get_constraints.<locals>.cons_y at 0x00000213FEF70598>\n",
      "<function get_constraints.<locals>.cons_y at 0x00000213FEF70378>\n",
      "<function get_constraints.<locals>.cons_y at 0x00000213FEF70268>\n",
      "<function get_constraints.<locals>.cons_y at 0x00000213F84539D8>\n",
      "<function get_constraints.<locals>.cons_y at 0x00000213FEEF9400>\n",
      "<function get_constraints.<locals>.cons_y at 0x00000213FEF342F0>\n",
      "<function get_constraints.<locals>.cons_y at 0x00000213FEF34730>\n",
      "None\n",
      "<function get_constraints.<locals>.cons_psi at 0x00000213FEE11EA0>\n",
      "<function get_constraints.<locals>.cons_psi at 0x00000213FEF706A8>\n",
      "<function get_constraints.<locals>.cons_psi at 0x00000213FEF70488>\n",
      "<function get_constraints.<locals>.cons_psi at 0x00000213FEF70BF8>\n",
      "<function get_constraints.<locals>.cons_psi at 0x00000213FEF707B8>\n",
      "<function get_constraints.<locals>.cons_psi at 0x00000213F84530D0>\n",
      "<function get_constraints.<locals>.cons_psi at 0x00000213FEF34400>\n",
      "<function get_constraints.<locals>.cons_psi at 0x00000213FEF34B70>\n",
      "<function get_constraints.<locals>.cons_psi at 0x00000213FEF347B8>\n",
      "None\n",
      "<function get_constraints.<locals>.cons_v at 0x00000213FEE11C80>\n",
      "<function get_constraints.<locals>.cons_v at 0x00000213FEF70B70>\n",
      "<function get_constraints.<locals>.cons_v at 0x00000213FEF708C8>\n",
      "<function get_constraints.<locals>.cons_v at 0x00000213FEF70400>\n",
      "<function get_constraints.<locals>.cons_v at 0x00000213F8453BF8>\n",
      "<function get_constraints.<locals>.cons_v at 0x00000213F8453268>\n",
      "<function get_constraints.<locals>.cons_v at 0x00000213FEF34158>\n",
      "<function get_constraints.<locals>.cons_v at 0x00000213FEF348C8>\n",
      "<function get_constraints.<locals>.cons_v at 0x00000213FEF34840>\n",
      "None\n",
      "<function get_constraints.<locals>.cons_cte at 0x00000213FEE11D08>\n",
      "<function get_constraints.<locals>.cons_cte at 0x00000213FEF70730>\n",
      "<function get_constraints.<locals>.cons_cte at 0x00000213FEF709D8>\n",
      "<function get_constraints.<locals>.cons_cte at 0x00000213FEF70510>\n",
      "<function get_constraints.<locals>.cons_cte at 0x00000213F8453D90>\n",
      "<function get_constraints.<locals>.cons_cte at 0x00000213F8453F28>\n",
      "<function get_constraints.<locals>.cons_cte at 0x00000213FEF34378>\n",
      "<function get_constraints.<locals>.cons_cte at 0x00000213FEF34950>\n",
      "<function get_constraints.<locals>.cons_cte at 0x00000213FEFAAA60>\n",
      "None\n",
      "<function get_constraints.<locals>.cons_epsi at 0x00000213FEE11B70>\n",
      "<function get_constraints.<locals>.cons_epsi at 0x00000213FEF70158>\n",
      "<function get_constraints.<locals>.cons_epsi at 0x00000213FEF702F0>\n",
      "<function get_constraints.<locals>.cons_epsi at 0x00000213FEF70D90>\n",
      "<function get_constraints.<locals>.cons_epsi at 0x00000213F8453158>\n",
      "<function get_constraints.<locals>.cons_epsi at 0x00000213FEEF9EA0>\n",
      "<function get_constraints.<locals>.cons_epsi at 0x00000213FEF34A60>\n",
      "<function get_constraints.<locals>.cons_epsi at 0x00000213FEF349D8>\n",
      "<function get_constraints.<locals>.cons_epsi at 0x00000213FEFAA8C8>\n"
     ]
    }
   ],
   "source": [
    "for i in get_constraints():\n",
    "    print(i)"
   ]
  },
  {
   "cell_type": "code",
   "execution_count": 756,
   "metadata": {
    "collapsed": true
   },
   "outputs": [],
   "source": [
    "def cons_cte(vars, t=0):\n",
    "    x0 = vars[x_start + t - 1]\n",
    "    y0 = vars[y_start + t - 1]\n",
    "    v0 = vars[v_start + t - 1]\n",
    "    f0 = coeffs[0] + coeffs[1] * x0 + coeffs[2] * x0 ** 2 + coeffs[3] * x0 ** 3\n",
    "    cte1 = vars[cte_start + t]\n",
    "    epsi0 = vars[epsi_start + t - 1]\n",
    "    return cte1 - (f0 - y0 + (v0 * np.sin(epsi0) * dt))"
   ]
  },
  {
   "cell_type": "code",
   "execution_count": 697,
   "metadata": {},
   "outputs": [
    {
     "data": {
      "text/plain": [
       "3.4028235e+38"
      ]
     },
     "execution_count": 697,
     "metadata": {},
     "output_type": "execute_result"
    }
   ],
   "source": [
    "np.finfo(np.float32).max"
   ]
  },
  {
   "cell_type": "code",
   "execution_count": 747,
   "metadata": {},
   "outputs": [
    {
     "data": {
      "text/plain": [
       "numpy.float64"
      ]
     },
     "execution_count": 747,
     "metadata": {},
     "output_type": "execute_result"
    }
   ],
   "source": [
    "type(70 - vars[2])"
   ]
  },
  {
   "cell_type": "code",
   "execution_count": 760,
   "metadata": {},
   "outputs": [
    {
     "data": {
      "text/plain": [
       "array([100., 100., 100., 100., 100., 100., 100., 100., 100., 100., 100.,\n",
       "       100., 100., 100., 100., 100., 100., 100., 100., 100., 100., 100.,\n",
       "       100., 100., 100., 100., 100., 100., 100., 100., 100., 100., 100.,\n",
       "       100., 100., 100., 100., 100., 100., 100., 100., 100., 100., 100.,\n",
       "       100., 100., 100., 100., 100., 100., 100., 100., 100., 100., 100.,\n",
       "       100., 100., 100., 100., 100., 100., 100., 100., 100., 100., 100.,\n",
       "       100., 100., 100., 100., 100., 100., 100., 100., 100., 100., 100.,\n",
       "       100.])"
      ]
     },
     "execution_count": 760,
     "metadata": {},
     "output_type": "execute_result"
    }
   ],
   "source": [
    "vars + 100"
   ]
  },
  {
   "cell_type": "code",
   "execution_count": 998,
   "metadata": {},
   "outputs": [
    {
     "data": {
      "text/plain": [
       "[{'fun': <function __main__.get_constraints.<locals>.cons_x>, 'type': 'eq'},\n",
       " {'fun': <function __main__.get_constraints.<locals>.cons_x>, 'type': 'eq'},\n",
       " {'fun': <function __main__.get_constraints.<locals>.cons_x>, 'type': 'eq'},\n",
       " {'fun': <function __main__.get_constraints.<locals>.cons_x>, 'type': 'eq'},\n",
       " {'fun': <function __main__.get_constraints.<locals>.cons_x>, 'type': 'eq'},\n",
       " {'fun': <function __main__.get_constraints.<locals>.cons_x>, 'type': 'eq'},\n",
       " {'fun': <function __main__.get_constraints.<locals>.cons_x>, 'type': 'eq'},\n",
       " {'fun': <function __main__.get_constraints.<locals>.cons_x>, 'type': 'eq'},\n",
       " {'fun': <function __main__.get_constraints.<locals>.cons_x>, 'type': 'eq'},\n",
       " {'fun': <function __main__.get_constraints.<locals>.cons_y>, 'type': 'eq'},\n",
       " {'fun': <function __main__.get_constraints.<locals>.cons_y>, 'type': 'eq'},\n",
       " {'fun': <function __main__.get_constraints.<locals>.cons_y>, 'type': 'eq'},\n",
       " {'fun': <function __main__.get_constraints.<locals>.cons_y>, 'type': 'eq'},\n",
       " {'fun': <function __main__.get_constraints.<locals>.cons_y>, 'type': 'eq'},\n",
       " {'fun': <function __main__.get_constraints.<locals>.cons_y>, 'type': 'eq'},\n",
       " {'fun': <function __main__.get_constraints.<locals>.cons_y>, 'type': 'eq'},\n",
       " {'fun': <function __main__.get_constraints.<locals>.cons_y>, 'type': 'eq'},\n",
       " {'fun': <function __main__.get_constraints.<locals>.cons_y>, 'type': 'eq'},\n",
       " {'fun': <function __main__.get_constraints.<locals>.cons_psi>, 'type': 'eq'},\n",
       " {'fun': <function __main__.get_constraints.<locals>.cons_psi>, 'type': 'eq'},\n",
       " {'fun': <function __main__.get_constraints.<locals>.cons_psi>, 'type': 'eq'},\n",
       " {'fun': <function __main__.get_constraints.<locals>.cons_psi>, 'type': 'eq'},\n",
       " {'fun': <function __main__.get_constraints.<locals>.cons_psi>, 'type': 'eq'},\n",
       " {'fun': <function __main__.get_constraints.<locals>.cons_psi>, 'type': 'eq'},\n",
       " {'fun': <function __main__.get_constraints.<locals>.cons_psi>, 'type': 'eq'},\n",
       " {'fun': <function __main__.get_constraints.<locals>.cons_psi>, 'type': 'eq'},\n",
       " {'fun': <function __main__.get_constraints.<locals>.cons_psi>, 'type': 'eq'},\n",
       " {'fun': <function __main__.get_constraints.<locals>.cons_v>, 'type': 'eq'},\n",
       " {'fun': <function __main__.get_constraints.<locals>.cons_v>, 'type': 'eq'},\n",
       " {'fun': <function __main__.get_constraints.<locals>.cons_v>, 'type': 'eq'},\n",
       " {'fun': <function __main__.get_constraints.<locals>.cons_v>, 'type': 'eq'},\n",
       " {'fun': <function __main__.get_constraints.<locals>.cons_v>, 'type': 'eq'},\n",
       " {'fun': <function __main__.get_constraints.<locals>.cons_v>, 'type': 'eq'},\n",
       " {'fun': <function __main__.get_constraints.<locals>.cons_v>, 'type': 'eq'},\n",
       " {'fun': <function __main__.get_constraints.<locals>.cons_v>, 'type': 'eq'},\n",
       " {'fun': <function __main__.get_constraints.<locals>.cons_v>, 'type': 'eq'},\n",
       " {'fun': <function __main__.get_constraints.<locals>.cons_cte>, 'type': 'eq'},\n",
       " {'fun': <function __main__.get_constraints.<locals>.cons_cte>, 'type': 'eq'},\n",
       " {'fun': <function __main__.get_constraints.<locals>.cons_cte>, 'type': 'eq'},\n",
       " {'fun': <function __main__.get_constraints.<locals>.cons_cte>, 'type': 'eq'},\n",
       " {'fun': <function __main__.get_constraints.<locals>.cons_cte>, 'type': 'eq'},\n",
       " {'fun': <function __main__.get_constraints.<locals>.cons_cte>, 'type': 'eq'},\n",
       " {'fun': <function __main__.get_constraints.<locals>.cons_cte>, 'type': 'eq'},\n",
       " {'fun': <function __main__.get_constraints.<locals>.cons_cte>, 'type': 'eq'},\n",
       " {'fun': <function __main__.get_constraints.<locals>.cons_cte>, 'type': 'eq'},\n",
       " {'fun': <function __main__.get_constraints.<locals>.cons_epsi>, 'type': 'eq'},\n",
       " {'fun': <function __main__.get_constraints.<locals>.cons_epsi>, 'type': 'eq'},\n",
       " {'fun': <function __main__.get_constraints.<locals>.cons_epsi>, 'type': 'eq'},\n",
       " {'fun': <function __main__.get_constraints.<locals>.cons_epsi>, 'type': 'eq'},\n",
       " {'fun': <function __main__.get_constraints.<locals>.cons_epsi>, 'type': 'eq'},\n",
       " {'fun': <function __main__.get_constraints.<locals>.cons_epsi>, 'type': 'eq'},\n",
       " {'fun': <function __main__.get_constraints.<locals>.cons_epsi>, 'type': 'eq'},\n",
       " {'fun': <function __main__.get_constraints.<locals>.cons_epsi>, 'type': 'eq'},\n",
       " {'fun': <function __main__.get_constraints.<locals>.cons_epsi>, 'type': 'eq'}]"
      ]
     },
     "execution_count": 998,
     "metadata": {},
     "output_type": "execute_result"
    }
   ],
   "source": [
    "constraints"
   ]
  },
  {
   "cell_type": "code",
   "execution_count": 13,
   "metadata": {},
   "outputs": [],
   "source": [
    "from scipy import interpolate\n",
    "\n",
    "pts_x = [0, 20, 40, 60, 80]\n",
    "pts_y = [0, 0, 6, 6, 6]\n",
    "tck = interpolate.CubicSpline(pts_x, pts_y)\n"
   ]
  },
  {
   "cell_type": "code",
   "execution_count": 14,
   "metadata": {},
   "outputs": [
    {
     "data": {
      "text/plain": [
       "array([[-3.4375e-04, -3.4375e-04,  2.1875e-04,  2.1875e-04],\n",
       "       [ 2.8125e-02,  7.5000e-03, -1.3125e-02,  0.0000e+00],\n",
       "       [-4.2500e-01,  2.8750e-01,  1.7500e-01, -8.7500e-02],\n",
       "       [ 0.0000e+00,  0.0000e+00,  6.0000e+00,  6.0000e+00]])"
      ]
     },
     "execution_count": 14,
     "metadata": {},
     "output_type": "execute_result"
    }
   ],
   "source": [
    "# interpolate.splev([6,2], tck)\n",
    "tck.c\n"
   ]
  },
  {
   "cell_type": "code",
   "execution_count": 1,
   "metadata": {},
   "outputs": [
    {
     "ename": "NameError",
     "evalue": "name 'tck' is not defined",
     "output_type": "error",
     "traceback": [
      "\u001b[1;31m---------------------------------------------------------------------------\u001b[0m",
      "\u001b[1;31mNameError\u001b[0m                                 Traceback (most recent call last)",
      "\u001b[1;32m<ipython-input-1-b3fb97069d4f>\u001b[0m in \u001b[0;36m<module>\u001b[1;34m()\u001b[0m\n\u001b[1;32m----> 1\u001b[1;33m \u001b[0mfunc\u001b[0m \u001b[1;33m=\u001b[0m \u001b[0mtck\u001b[0m\u001b[1;33m\u001b[0m\u001b[0m\n\u001b[0m\u001b[0;32m      2\u001b[0m \u001b[0minterpolate\u001b[0m\u001b[1;33m.\u001b[0m\u001b[0mspltopp\u001b[0m\u001b[1;33m(\u001b[0m\u001b[0mfunc\u001b[0m\u001b[1;33m[\u001b[0m\u001b[1;36m0\u001b[0m\u001b[1;33m]\u001b[0m\u001b[1;33m[\u001b[0m\u001b[1;36m1\u001b[0m\u001b[1;33m:\u001b[0m\u001b[1;33m-\u001b[0m\u001b[1;36m1\u001b[0m\u001b[1;33m]\u001b[0m\u001b[1;33m,\u001b[0m\u001b[0mfunc\u001b[0m\u001b[1;33m[\u001b[0m\u001b[1;36m1\u001b[0m\u001b[1;33m]\u001b[0m\u001b[1;33m,\u001b[0m\u001b[0mfunc\u001b[0m\u001b[1;33m[\u001b[0m\u001b[1;36m2\u001b[0m\u001b[1;33m]\u001b[0m\u001b[1;33m)\u001b[0m\u001b[1;33m\u001b[0m\u001b[0m\n",
      "\u001b[1;31mNameError\u001b[0m: name 'tck' is not defined"
     ]
    }
   ],
   "source": [
    "func = tck\n",
    "interpolate.spltopp(func[0][1:-1],func[1],func[2])"
   ]
  },
  {
   "cell_type": "code",
   "execution_count": 20,
   "metadata": {},
   "outputs": [
    {
     "data": {
      "text/plain": [
       "array([[-0.125, -0.125, -0.125, -0.125,  0.625,  0.625,  0.625,  0.625],\n",
       "       [ 1.375,  1.375,  1.375,  1.375,  0.625,  4.375,  4.375,  4.375],\n",
       "       [-0.25 , -0.25 , -0.25 , -0.25 ,  3.75 , 13.75 , 13.75 , 13.75 ],\n",
       "       [ 1.   ,  1.   ,  1.   ,  1.   ,  5.   , 20.   , 20.   , 20.   ]])"
      ]
     },
     "execution_count": 20,
     "metadata": {},
     "output_type": "execute_result"
    }
   ],
   "source": [
    "interpolate.PPoly.from_spline(tck).c"
   ]
  },
  {
   "cell_type": "code",
   "execution_count": null,
   "metadata": {
    "collapsed": true
   },
   "outputs": [],
   "source": []
  }
 ],
 "metadata": {
  "kernelspec": {
   "display_name": "Python 3",
   "language": "python",
   "name": "python3"
  },
  "language_info": {
   "codemirror_mode": {
    "name": "ipython",
    "version": 3
   },
   "file_extension": ".py",
   "mimetype": "text/x-python",
   "name": "python",
   "nbconvert_exporter": "python",
   "pygments_lexer": "ipython3",
   "version": "3.5.2"
  }
 },
 "nbformat": 4,
 "nbformat_minor": 2
}
