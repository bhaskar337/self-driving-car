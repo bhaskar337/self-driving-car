{
 "cells": [
  {
   "cell_type": "code",
   "execution_count": 2,
   "metadata": {
    "collapsed": true
   },
   "outputs": [],
   "source": [
    "import pulp"
   ]
  },
  {
   "cell_type": "code",
   "execution_count": 20,
   "metadata": {},
   "outputs": [],
   "source": [
    "prob1 = pulp.LpProblem(\"My LP Problem\", pulp.LpMinimize)"
   ]
  },
  {
   "cell_type": "code",
   "execution_count": 21,
   "metadata": {
    "collapsed": true
   },
   "outputs": [],
   "source": [
    "x = pulp.LpVariable('x', lowBound=1, upBound=5, cat='Continuous')\n",
    "y = pulp.LpVariable('y', lowBound=2, cat='Continuous')"
   ]
  },
  {
   "cell_type": "code",
   "execution_count": 22,
   "metadata": {},
   "outputs": [
    {
     "name": "stderr",
     "output_type": "stream",
     "text": [
      "c:\\users\\bhask\\appdata\\local\\programs\\python\\python35\\lib\\site-packages\\pulp\\pulp.py:1349: UserWarning: Overwriting previously set objective.\n",
      "  warnings.warn(\"Overwriting previously set objective.\")\n"
     ]
    }
   ],
   "source": [
    "prob1 += 4 * x + 3 * y\n",
    "prob1 += 5 * x - 3 * y"
   ]
  },
  {
   "cell_type": "code",
   "execution_count": 15,
   "metadata": {
    "collapsed": true
   },
   "outputs": [],
   "source": [
    "prob += 2 * y <= 25 - x\n",
    "prob += 4 * y >= 2 * x - 8\n",
    "prob += y <= 2 * x - 5"
   ]
  },
  {
   "cell_type": "code",
   "execution_count": 23,
   "metadata": {},
   "outputs": [
    {
     "data": {
      "text/plain": [
       "My LP Problem:\n",
       "MINIMIZE\n",
       "5*x + -3*y + 0\n",
       "VARIABLES\n",
       "1 <= x <= 5 Continuous\n",
       "2 <= y Continuous"
      ]
     },
     "execution_count": 23,
     "metadata": {},
     "output_type": "execute_result"
    }
   ],
   "source": [
    "prob1"
   ]
  },
  {
   "cell_type": "code",
   "execution_count": 24,
   "metadata": {},
   "outputs": [
    {
     "data": {
      "text/plain": [
       "1"
      ]
     },
     "execution_count": 24,
     "metadata": {},
     "output_type": "execute_result"
    }
   ],
   "source": [
    "prob.solve()"
   ]
  },
  {
   "cell_type": "code",
   "execution_count": 27,
   "metadata": {},
   "outputs": [
    {
     "name": "stdout",
     "output_type": "stream",
     "text": [
      "x 3.5\n",
      "y 2.0\n"
     ]
    }
   ],
   "source": [
    "for var in prob.variables():\n",
    "    print(var.name, var.varValue)"
   ]
  },
  {
   "cell_type": "markdown",
   "metadata": {
    "collapsed": true
   },
   "source": [
    "int cost_cte = 1500;\n",
    "int cost_eps = 500;\n",
    "int cost_v = 1;\n",
    "int cost_current_delta = 50;\n",
    "int cost_current_a = 25;\n",
    "int cost_diff_delta = 300;\n",
    "int cost_diff_a = 125;"
   ]
  },
  {
   "cell_type": "code",
   "execution_count": 12,
   "metadata": {
    "collapsed": true
   },
   "outputs": [],
   "source": [
    "ref_vel = 49.5\n",
    "delta = 0\n",
    "a = 1\n",
    "epsi = 0\n",
    "cte = 1"
   ]
  },
  {
   "cell_type": "code",
   "execution_count": null,
   "metadata": {
    "collapsed": true
   },
   "outputs": [],
   "source": [
    "prob = pulp.LpProblem(\"MPC\", pulp.LpMinimize)\n"
   ]
  },
  {
   "cell_type": "code",
   "execution_count": 28,
   "metadata": {},
   "outputs": [
    {
     "ename": "NameError",
     "evalue": "name 't' is not defined",
     "output_type": "error",
     "traceback": [
      "\u001b[1;31m------------------------------------------------------------------\u001b[0m",
      "\u001b[1;31mNameError\u001b[0m                        Traceback (most recent call last)",
      "\u001b[1;32m<ipython-input-28-cd08b2aad4c9>\u001b[0m in \u001b[0;36m<module>\u001b[1;34m()\u001b[0m\n\u001b[1;32m----> 1\u001b[1;33m \u001b[0mx_\u001b[0m\u001b[1;33m[\u001b[0m\u001b[0mt\u001b[0m\u001b[1;33m+\u001b[0m\u001b[1;36m1\u001b[0m\u001b[1;33m]\u001b[0m \u001b[1;33m=\u001b[0m \u001b[0mx\u001b[0m\u001b[1;33m[\u001b[0m\u001b[0mt\u001b[0m\u001b[1;33m]\u001b[0m \u001b[1;33m+\u001b[0m \u001b[0mv\u001b[0m\u001b[1;33m[\u001b[0m\u001b[0mt\u001b[0m\u001b[1;33m]\u001b[0m \u001b[1;33m*\u001b[0m \u001b[0mcos\u001b[0m\u001b[1;33m(\u001b[0m\u001b[0mpsi\u001b[0m\u001b[1;33m[\u001b[0m\u001b[0mt\u001b[0m\u001b[1;33m]\u001b[0m\u001b[1;33m)\u001b[0m \u001b[1;33m*\u001b[0m \u001b[0mdt\u001b[0m\u001b[1;33m\u001b[0m\u001b[0m\n\u001b[0m\u001b[0;32m      2\u001b[0m \u001b[0my_\u001b[0m\u001b[1;33m[\u001b[0m\u001b[0mt\u001b[0m\u001b[1;33m+\u001b[0m\u001b[1;36m1\u001b[0m\u001b[1;33m]\u001b[0m \u001b[1;33m=\u001b[0m \u001b[0my\u001b[0m\u001b[1;33m[\u001b[0m\u001b[0mt\u001b[0m\u001b[1;33m]\u001b[0m \u001b[1;33m+\u001b[0m \u001b[0mv\u001b[0m\u001b[1;33m[\u001b[0m\u001b[0mt\u001b[0m\u001b[1;33m]\u001b[0m \u001b[1;33m*\u001b[0m \u001b[0msin\u001b[0m\u001b[1;33m(\u001b[0m\u001b[0mpsi\u001b[0m\u001b[1;33m[\u001b[0m\u001b[0mt\u001b[0m\u001b[1;33m]\u001b[0m\u001b[1;33m)\u001b[0m \u001b[1;33m*\u001b[0m \u001b[0mdt\u001b[0m\u001b[1;33m\u001b[0m\u001b[0m\n\u001b[0;32m      3\u001b[0m \u001b[0mpsi_\u001b[0m\u001b[1;33m[\u001b[0m\u001b[0mt\u001b[0m\u001b[1;33m+\u001b[0m\u001b[1;36m1\u001b[0m\u001b[1;33m]\u001b[0m \u001b[1;33m=\u001b[0m \u001b[0mpsi\u001b[0m\u001b[1;33m[\u001b[0m\u001b[0mt\u001b[0m\u001b[1;33m]\u001b[0m \u001b[1;33m+\u001b[0m \u001b[0mv\u001b[0m\u001b[1;33m[\u001b[0m\u001b[0mt\u001b[0m\u001b[1;33m]\u001b[0m \u001b[1;33m/\u001b[0m \u001b[0mLf\u001b[0m \u001b[1;33m*\u001b[0m \u001b[0mdelta\u001b[0m\u001b[1;33m[\u001b[0m\u001b[0mt\u001b[0m\u001b[1;33m]\u001b[0m \u001b[1;33m*\u001b[0m \u001b[0mdt\u001b[0m\u001b[1;33m\u001b[0m\u001b[0m\n\u001b[0;32m      4\u001b[0m \u001b[0mv_\u001b[0m\u001b[1;33m[\u001b[0m\u001b[0mt\u001b[0m\u001b[1;33m+\u001b[0m\u001b[1;36m1\u001b[0m\u001b[1;33m]\u001b[0m \u001b[1;33m=\u001b[0m \u001b[0mv\u001b[0m\u001b[1;33m[\u001b[0m\u001b[0mt\u001b[0m\u001b[1;33m]\u001b[0m \u001b[1;33m+\u001b[0m \u001b[0ma\u001b[0m\u001b[1;33m[\u001b[0m\u001b[0mt\u001b[0m\u001b[1;33m]\u001b[0m \u001b[1;33m*\u001b[0m \u001b[0mdt\u001b[0m\u001b[1;33m\u001b[0m\u001b[0m\n",
      "\u001b[1;31mNameError\u001b[0m: name 't' is not defined"
     ]
    }
   ],
   "source": [
    "x_[t+1] = x[t] + v[t] * cos(psi[t]) * dt\n",
    "y_[t+1] = y[t] + v[t] * sin(psi[t]) * dt\n",
    "psi_[t+1] = psi[t] + v[t] / Lf * delta[t] * dt\n",
    "v_[t+1] = v[t] + a[t] * dt"
   ]
  },
  {
   "cell_type": "code",
   "execution_count": 29,
   "metadata": {},
   "outputs": [
    {
     "name": "stdout",
     "output_type": "stream",
     "text": [
      "start Kinematic Bicycle model simulation\n"
     ]
    },
    {
     "data": {
      "image/png": "[encoded data removed]",
      "text/plain": [
       "<matplotlib.figure.Figure at 0x27a678be400>"
      ]
     },
     "metadata": {},
     "output_type": "display_data"
    },
    {
     "data": {
      "image/png": "[encoded data removed]",
      "text/plain": [
       "<matplotlib.figure.Figure at 0x27a70492c88>"
      ]
     },
     "metadata": {},
     "output_type": "display_data"
    }
   ],
   "source": [
    "#! /usr/bin/python\n",
    "# -*- coding: utf-8 -*-\n",
    "\"\"\"\n",
    "Kinematic Bicycle Model\n",
    "\n",
    "author Atsushi Sakai\n",
    "\"\"\"\n",
    "\n",
    "import math\n",
    "\n",
    "dt = 0.1  # [s]\n",
    "L = 2.9  # [m]\n",
    "Lr = 1.4  # [m]\n",
    "\n",
    "\n",
    "class State:\n",
    "\n",
    "    def __init__(self, x=Lr, y=0.0, yaw=0.0, v=0.0, beta=0.0):\n",
    "        self.x = x\n",
    "        self.y = y\n",
    "        self.yaw = yaw\n",
    "        self.v = v\n",
    "        self.beta = beta\n",
    "\n",
    "\n",
    "def update(state, a, delta):\n",
    "\n",
    "    state.beta = math.atan2(Lr / L * math.tan(delta), 1.0)\n",
    "\n",
    "    state.x = state.x + state.v * math.cos(state.yaw + state.beta) * dt\n",
    "    state.y = state.y + state.v * math.sin(state.yaw + state.beta) * dt\n",
    "    state.yaw = state.yaw + state.v / Lr * math.sin(state.beta) * dt\n",
    "    state.v = state.v + a * dt\n",
    "\n",
    "    #  print(state.x, state.y, state.yaw, state.v)\n",
    "\n",
    "    return state\n",
    "\n",
    "\n",
    "if __name__ == '__main__':\n",
    "    print(\"start Kinematic Bicycle model simulation\")\n",
    "    import matplotlib.pyplot as plt\n",
    "    import numpy as np\n",
    "\n",
    "    T = 100\n",
    "    a = [1.0] * T\n",
    "    delta = [math.radians(1.0)] * T\n",
    "    #  print(a, delta)\n",
    "\n",
    "    state = State()\n",
    "\n",
    "    x = []\n",
    "    y = []\n",
    "    yaw = []\n",
    "    v = []\n",
    "    beta = []\n",
    "    time = []\n",
    "    time = []\n",
    "    t = 0.0\n",
    "\n",
    "    for (ai, di) in zip(a, delta):\n",
    "        t = t + dt\n",
    "        state = update(state, ai, di)\n",
    "        x.append(state.x)\n",
    "        y.append(state.y)\n",
    "        yaw.append(state.yaw)\n",
    "        v.append(state.v)\n",
    "        beta.append(state.beta)\n",
    "        time.append(t)\n",
    "\n",
    "    flg, ax = plt.subplots(1)\n",
    "    plt.plot(x, y)\n",
    "    plt.xlabel(\"x[m]\")\n",
    "    plt.ylabel(\"y[m]\")\n",
    "    plt.axis(\"equal\")\n",
    "    plt.grid(True)\n",
    "\n",
    "    flg, ax = plt.subplots(1)\n",
    "    plt.plot(time, np.array(v) * 3.6)\n",
    "    plt.xlabel(\"Time[km/h]\")\n",
    "    plt.ylabel(\"velocity[m]\")\n",
    "    plt.grid(True)\n",
    "\n",
    "    #  flg, ax = plt.subplots(1)\n",
    "    #  plt.plot([math.degrees(ibeta) for ibeta in beta])\n",
    "    #  plt.grid(True)\n",
    "\n",
    "    plt.show()\n"
   ]
  },
  {
   "cell_type": "code",
   "execution_count": 30,
   "metadata": {},
   "outputs": [
    {
     "data": {
      "text/plain": [
       "0.017453292519943295"
      ]
     },
     "execution_count": 30,
     "metadata": {},
     "output_type": "execute_result"
    }
   ],
   "source": [
    "math.radians(1)"
   ]
  },
  {
   "cell_type": "code",
   "execution_count": null,
   "metadata": {
    "collapsed": true
   },
   "outputs": [],
   "source": []
  }
 ],
 "metadata": {
  "kernelspec": {
   "display_name": "Python 3",
   "language": "python",
   "name": "python3"
  },
  "language_info": {
   "codemirror_mode": {
    "name": "ipython",
    "version": 3
   },
   "file_extension": ".py",
   "mimetype": "text/x-python",
   "name": "python",
   "nbconvert_exporter": "python",
   "pygments_lexer": "ipython3",
   "version": "3.5.2"
  }
 },
 "nbformat": 4,
 "nbformat_minor": 2
}
