{
 "cells": [
  {
   "cell_type": "code",
   "execution_count": 23,
   "metadata": {
    "collapsed": true
   },
   "outputs": [],
   "source": [
    "import numpy as np\n",
    "from scipy.optimize import minimize\n",
    "import matplotlib.pyplot as plt \n",
    "\n",
    "\n",
    "r = lambda x : round(x, 2)"
   ]
  },
  {
   "cell_type": "code",
   "execution_count": 63,
   "metadata": {
    "collapsed": true
   },
   "outputs": [],
   "source": [
    "N = 10\n",
    "dt = 0.1\n",
    "Lf = 2.67\n",
    "\n",
    "ref_v = 70\n",
    "\n",
    "cte_weight = 2000\n",
    "epsi_weight = 2000\n",
    "v_weight = 100\n",
    "actuator_cost_weight = 10\n",
    "change_steer_cost_weight = 100000\n",
    "change_acc_cost_weight = 10000"
   ]
  },
  {
   "cell_type": "code",
   "execution_count": 64,
   "metadata": {
    "collapsed": true
   },
   "outputs": [],
   "source": [
    "def objective(vars, test=False):\n",
    "    cost = 0\n",
    "    for i in range(N):\n",
    "        if i == 0:\n",
    "            coeffs = [0.00001, 0.0075, 0.00287, 0.6]\n",
    "            coeffs.reverse()\n",
    "            x = 0 \n",
    "            y = 0\n",
    "            psi = 10\n",
    "            v = 60\n",
    "            cte = 2\n",
    "            epsi = 10\n",
    "        \n",
    "        if test:\n",
    "            print(r(x), '\\t', r(y), '\\t', cte)\n",
    "            \n",
    "        cost += cte_weight * (cte) ** 2\n",
    "        cost += epsi_weight * (epsi) ** 2\n",
    "        cost += v_weight * (v - ref_v) ** 2\n",
    "\n",
    "        # since there are N - 1 acctuators\n",
    "        if i == N - 1:\n",
    "            return cost\n",
    "        \n",
    "        delta = vars[i]\n",
    "        a = vars[i + N - 1]\n",
    "\n",
    "        cost += actuator_cost_weight * (delta) ** 2\n",
    "        cost += actuator_cost_weight * (a) ** 2\n",
    "\n",
    "        if i != 0:\n",
    "            cost += change_steer_cost_weight * (delta - prev_delta) ** 2\n",
    "            cost += change_acc_cost_weight * (a - prev_a) ** 2\n",
    "\n",
    "        prev_delta = delta\n",
    "        prev_a = a\n",
    "\n",
    "        # calculate values for next iteration\n",
    "        f = coeffs[0] + coeffs[1] * x + coeffs[2] * x ** 2 + coeffs[3] * x ** 3\n",
    "        psides = np.arctan(coeffs[1] + 2 * coeffs[2] * x + 3 * coeffs[3] * x ** 2)\n",
    "\n",
    "        x = x + v * np.cos(psi) * dt\n",
    "        y = y + v * np.sin(psi) * dt\n",
    "        psi = psi - v * delta / Lf * dt\n",
    "        v = v + a * dt\n",
    "        cte = f - y + v * np.sin(epsi) * dt\n",
    "        epsi = psi - psides - v * delta / Lf * dt"
   ]
  },
  {
   "cell_type": "code",
   "execution_count": 65,
   "metadata": {
    "collapsed": true
   },
   "outputs": [],
   "source": [
    "n_vars = (N - 1) * 2\n",
    "bounds = [None] * n_vars\n",
    "vars = [0] * n_vars\n",
    "\n",
    "delta = 0.3\n",
    "bounds[0] = (delta, delta)\n",
    "max_radians = 25 * np.pi / 180\n",
    "for i in range(1, N - 1):\n",
    "    bounds[i] = (-max_radians, max_radians)\n",
    "\n",
    "a = 0.12\n",
    "bounds[N-1] = (a, a)\n",
    "max_acc_value = 1.0\n",
    "for i in range(N, n_vars):\n",
    "    bounds[i] = (-max_acc_value, max_acc_value)"
   ]
  },
  {
   "cell_type": "code",
   "execution_count": 70,
   "metadata": {},
   "outputs": [
    {
     "name": "stdout",
     "output_type": "stream",
     "text": [
      "1.8989121913909912\n",
      "True\n",
      "9663371.796452926\n",
      "1609187.8472088962\n"
     ]
    }
   ],
   "source": [
    "a = time.time()\n",
    "for i in range(5):\n",
    "    solution = minimize(objective, vars, bounds=bounds)\n",
    "print(time.time() - a)\n",
    "print(solution.success)\n",
    "print(objective(vars))\n",
    "print(solution.fun)"
   ]
  },
  {
   "cell_type": "code",
   "execution_count": 67,
   "metadata": {},
   "outputs": [
    {
     "name": "stdout",
     "output_type": "stream",
     "text": [
      "0.3 \t 0.12\n",
      "0.44 \t 0.17\n",
      "0.44 \t 0.21\n",
      "0.44 \t 0.26\n",
      "0.44 \t 0.29\n",
      "0.44 \t 0.33\n",
      "0.25 \t 0.39\n",
      "-0.02 \t 0.43\n",
      "0.24 \t 0.45\n"
     ]
    }
   ],
   "source": [
    "for i in range(N-1):\n",
    "    print(r(solution.x[i]), '\\t', r(solution.x[i+N-1]))"
   ]
  },
  {
   "cell_type": "code",
   "execution_count": 58,
   "metadata": {},
   "outputs": [
    {
     "name": "stdout",
     "output_type": "stream",
     "text": [
      "0 \t 0 \t 2\n",
      "-5.03 \t -3.26 \t 0.5993471746669332\n",
      "-11.01 \t -2.67 \t 7.644583881373825\n",
      "-13.83 \t 2.61 \t 4.3215763395534275\n",
      "-11.03 \t 7.9 \t -4.383691210823593\n",
      "-5.08 \t 8.52 \t -10.78413876472095\n",
      "-1.25 \t 3.96 \t -9.090659366648012\n",
      "-2.87 \t -1.77 \t 0.09625001127354782\n",
      "-7.34 \t -5.69 \t 5.400944076232709\n",
      "-11.65 \t -9.77 \t 6.344240775549842\n"
     ]
    },
    {
     "data": {
      "text/plain": [
       "5073037.202001798"
      ]
     },
     "execution_count": 58,
     "metadata": {},
     "output_type": "execute_result"
    }
   ],
   "source": [
    "objective(solution.x, True)"
   ]
  },
  {
   "cell_type": "code",
   "execution_count": null,
   "metadata": {
    "collapsed": true
   },
   "outputs": [],
   "source": []
  },
  {
   "cell_type": "code",
   "execution_count": 418,
   "metadata": {},
   "outputs": [
    {
     "data": {
      "image/png": "[encoded data removed]",
      "text/plain": [
       "<matplotlib.figure.Figure at 0x28a7f3deba8>"
      ]
     },
     "metadata": {},
     "output_type": "display_data"
    }
   ],
   "source": [
    "def curve(x):\n",
    "    coeffs = [0.00001, 0.0075, 0.00287, 0.6]\n",
    "    coeffs.reverse()\n",
    "    return coeffs[0] + coeffs[1] * x + coeffs[2] * x ** 2 + coeffs[3] * x ** 3\n",
    "\n",
    "x = np.array(np.arange(0, 30, 0.01))  \n",
    "y = curve(x)\n",
    "plt.plot(y, x)  \n",
    "plt.show()"
   ]
  },
  {
   "cell_type": "code",
   "execution_count": 71,
   "metadata": {},
   "outputs": [
    {
     "ename": "NameError",
     "evalue": "name 'interpolate' is not defined",
     "output_type": "error",
     "traceback": [
      "\u001b[1;31m---------------------------------------------------------------------------\u001b[0m",
      "\u001b[1;31mNameError\u001b[0m                                 Traceback (most recent call last)",
      "\u001b[1;32m<ipython-input-71-cb5f6a05836f>\u001b[0m in \u001b[0;36m<module>\u001b[1;34m()\u001b[0m\n\u001b[0;32m      1\u001b[0m \u001b[0mpts_x\u001b[0m \u001b[1;33m=\u001b[0m \u001b[1;33m[\u001b[0m\u001b[1;33m-\u001b[0m\u001b[1;36m30\u001b[0m\u001b[1;33m,\u001b[0m \u001b[1;36m0\u001b[0m\u001b[1;33m,\u001b[0m \u001b[1;36m30\u001b[0m\u001b[1;33m,\u001b[0m \u001b[1;36m60\u001b[0m\u001b[1;33m,\u001b[0m \u001b[1;36m90\u001b[0m\u001b[1;33m]\u001b[0m\u001b[1;33m\u001b[0m\u001b[0m\n\u001b[0;32m      2\u001b[0m \u001b[0mpts_y\u001b[0m \u001b[1;33m=\u001b[0m \u001b[1;33m[\u001b[0m\u001b[1;36m0\u001b[0m\u001b[1;33m,\u001b[0m \u001b[1;36m0\u001b[0m\u001b[1;33m,\u001b[0m \u001b[1;36m6\u001b[0m\u001b[1;33m,\u001b[0m \u001b[1;36m6\u001b[0m\u001b[1;33m,\u001b[0m \u001b[1;36m6\u001b[0m\u001b[1;33m]\u001b[0m\u001b[1;33m\u001b[0m\u001b[0m\n\u001b[1;32m----> 3\u001b[1;33m \u001b[0mf\u001b[0m \u001b[1;33m=\u001b[0m \u001b[0minterpolate\u001b[0m\u001b[1;33m.\u001b[0m\u001b[0minterp1d\u001b[0m\u001b[1;33m(\u001b[0m\u001b[0mpts_x\u001b[0m\u001b[1;33m,\u001b[0m \u001b[0mpts_y\u001b[0m\u001b[1;33m,\u001b[0m \u001b[0mkind\u001b[0m\u001b[1;33m=\u001b[0m\u001b[1;34m'cubic'\u001b[0m\u001b[1;33m)\u001b[0m\u001b[1;33m\u001b[0m\u001b[0m\n\u001b[0m\u001b[0;32m      4\u001b[0m \u001b[0mx\u001b[0m \u001b[1;33m=\u001b[0m \u001b[0mnp\u001b[0m\u001b[1;33m.\u001b[0m\u001b[0marange\u001b[0m\u001b[1;33m(\u001b[0m\u001b[1;33m-\u001b[0m\u001b[1;36m20\u001b[0m\u001b[1;33m,\u001b[0m \u001b[1;36m80\u001b[0m\u001b[1;33m,\u001b[0m \u001b[1;36m0.1\u001b[0m\u001b[1;33m)\u001b[0m\u001b[1;33m\u001b[0m\u001b[0m\n\u001b[0;32m      5\u001b[0m \u001b[0mplt\u001b[0m\u001b[1;33m.\u001b[0m\u001b[0mplot\u001b[0m\u001b[1;33m(\u001b[0m\u001b[0mf\u001b[0m\u001b[1;33m(\u001b[0m\u001b[0mx\u001b[0m\u001b[1;33m)\u001b[0m\u001b[1;33m,\u001b[0m \u001b[0mx\u001b[0m\u001b[1;33m)\u001b[0m\u001b[1;33m\u001b[0m\u001b[0m\n",
      "\u001b[1;31mNameError\u001b[0m: name 'interpolate' is not defined"
     ]
    }
   ],
   "source": [
    "pts_x = [-30, 0, 30, 60, 90]\n",
    "pts_y = [0, 0, 6, 6, 6]\n",
    "f = interpolate.interp1d(pts_x, pts_y, kind='cubic')\n",
    "x = np.arange(-20, 80, 0.1)\n",
    "plt.plot(f(x), x)  \n",
    "plt.show()"
   ]
  },
  {
   "cell_type": "code",
   "execution_count": 292,
   "metadata": {
    "collapsed": true
   },
   "outputs": [],
   "source": [
    "from scipy import interpolate\n",
    "\n",
    "pts_x = [-30, 0, 30, 60, 90]\n",
    "pts_y = [0, 0, 6, 6, 6]\n",
    "tck = interpolate.CubicSpline(pts_x, pts_y)"
   ]
  },
  {
   "cell_type": "code",
   "execution_count": 298,
   "metadata": {},
   "outputs": [
    {
     "data": {
      "image/png": "[encoded data removed]",
      "text/plain": [
       "<matplotlib.figure.Figure at 0x28a7f7d9828>"
      ]
     },
     "metadata": {},
     "output_type": "display_data"
    }
   ],
   "source": [
    "x = np.arange(-20, 80, 0.1)\n",
    "plt.plot(tck(x), x)  \n",
    "plt.show()"
   ]
  },
  {
   "cell_type": "code",
   "execution_count": 248,
   "metadata": {},
   "outputs": [
    {
     "name": "stdout",
     "output_type": "stream",
     "text": [
      "-0.00034375000000000003\n",
      "0.0075000000000000015\n",
      "0.2875\n",
      "0.0\n"
     ]
    }
   ],
   "source": [
    "k = []\n",
    "for i in tck.c:\n",
    "    k.append(i[1])\n",
    "    print(i[1])"
   ]
  },
  {
   "cell_type": "code",
   "execution_count": 322,
   "metadata": {},
   "outputs": [
    {
     "data": {
      "text/plain": [
       "{'_call': <function scipy.interpolate.interpolate.interp1d._call_spline>,\n",
       " '_extrapolate': False,\n",
       " '_fill_value_above': array([nan]),\n",
       " '_fill_value_below': array([nan]),\n",
       " '_fill_value_orig': array(nan),\n",
       " '_kind': 'spline',\n",
       " '_spline': <scipy.interpolate._bsplines.BSpline at 0x28a7f936128>,\n",
       " '_y': array([[0.],\n",
       "        [0.],\n",
       "        [6.],\n",
       "        [6.],\n",
       "        [6.]]),\n",
       " 'axis': 0,\n",
       " 'bounds_error': True,\n",
       " 'copy': True,\n",
       " 'x': array([-30,   0,  30,  60,  90]),\n",
       " 'y': array([0., 0., 6., 6., 6.])}"
      ]
     },
     "execution_count": 322,
     "metadata": {},
     "output_type": "execute_result"
    }
   ],
   "source": [
    "f.__dict__"
   ]
  },
  {
   "cell_type": "code",
   "execution_count": 10,
   "metadata": {
    "collapsed": true
   },
   "outputs": [],
   "source": [
    "import time"
   ]
  },
  {
   "cell_type": "code",
   "execution_count": 19,
   "metadata": {
    "collapsed": true
   },
   "outputs": [],
   "source": [
    "a = time.time()"
   ]
  },
  {
   "cell_type": "code",
   "execution_count": 20,
   "metadata": {},
   "outputs": [
    {
     "data": {
      "text/plain": [
       "1.9219017028808594"
      ]
     },
     "execution_count": 20,
     "metadata": {},
     "output_type": "execute_result"
    }
   ],
   "source": [
    "time.time() - a"
   ]
  },
  {
   "cell_type": "code",
   "execution_count": null,
   "metadata": {
    "collapsed": true
   },
   "outputs": [],
   "source": []
  }
 ],
 "metadata": {
  "kernelspec": {
   "display_name": "Python 3",
   "language": "python",
   "name": "python3"
  },
  "language_info": {
   "codemirror_mode": {
    "name": "ipython",
    "version": 3
   },
   "file_extension": ".py",
   "mimetype": "text/x-python",
   "name": "python",
   "nbconvert_exporter": "python",
   "pygments_lexer": "ipython3",
   "version": "3.5.2"
  }
 },
 "nbformat": 4,
 "nbformat_minor": 2
}
