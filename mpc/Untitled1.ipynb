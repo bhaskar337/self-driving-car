{
 "cells": [
  {
   "cell_type": "code",
   "execution_count": 239,
   "metadata": {
    "collapsed": true
   },
   "outputs": [],
   "source": [
    "import numpy as np\n",
    "from scipy.optimize import minimize"
   ]
  },
  {
   "cell_type": "code",
   "execution_count": 240,
   "metadata": {
    "collapsed": true
   },
   "outputs": [],
   "source": [
    "def objective(vars):\n",
    "    return vars[0] + vars[1]"
   ]
  },
  {
   "cell_type": "code",
   "execution_count": 241,
   "metadata": {
    "collapsed": true
   },
   "outputs": [],
   "source": [
    "def constraint1(x):\n",
    "    return 50 - x[0]\n",
    "\n",
    "def constraint2(x):\n",
    "    return x[0] - 50"
   ]
  },
  {
   "cell_type": "code",
   "execution_count": 258,
   "metadata": {
    "collapsed": true
   },
   "outputs": [],
   "source": [
    "x0 = np.zeros(4)\n",
    "bounds = [[11, 10] for _ in range(4)] "
   ]
  },
  {
   "cell_type": "code",
   "execution_count": 259,
   "metadata": {
    "collapsed": true
   },
   "outputs": [],
   "source": [
    "cons1 = {'type': 'ineq', 'fun': constraint1}\n",
    "cons2 = {'type': 'ineq', 'fun': constraint2}\n",
    "cons = (cons1)"
   ]
  },
  {
   "cell_type": "code",
   "execution_count": 1,
   "metadata": {},
   "outputs": [
    {
     "ename": "NameError",
     "evalue": "name 'minimize' is not defined",
     "output_type": "error",
     "traceback": [
      "\u001b[1;31m---------------------------------------------------------------------------\u001b[0m",
      "\u001b[1;31mNameError\u001b[0m                                 Traceback (most recent call last)",
      "\u001b[1;32m<ipython-input-1-c237f803e975>\u001b[0m in \u001b[0;36m<module>\u001b[1;34m()\u001b[0m\n\u001b[1;32m----> 1\u001b[1;33m \u001b[0msolution\u001b[0m \u001b[1;33m=\u001b[0m \u001b[0mminimize\u001b[0m\u001b[1;33m(\u001b[0m\u001b[0mobjective\u001b[0m\u001b[1;33m,\u001b[0m \u001b[0mx0\u001b[0m\u001b[1;33m,\u001b[0m \u001b[0mmethod\u001b[0m\u001b[1;33m=\u001b[0m\u001b[1;34m'SLSQP'\u001b[0m\u001b[1;33m,\u001b[0m \u001b[0mbounds\u001b[0m\u001b[1;33m=\u001b[0m\u001b[0mbounds\u001b[0m\u001b[1;33m,\u001b[0m \u001b[0mconstraints\u001b[0m\u001b[1;33m=\u001b[0m\u001b[0mcons\u001b[0m\u001b[1;33m)\u001b[0m\u001b[1;33m\u001b[0m\u001b[0m\n\u001b[0m",
      "\u001b[1;31mNameError\u001b[0m: name 'minimize' is not defined"
     ]
    }
   ],
   "source": [
    "solution = minimize(objective, x0, method='SLSQP', bounds=bounds, constraints=cons)"
   ]
  },
  {
   "cell_type": "code",
   "execution_count": 261,
   "metadata": {},
   "outputs": [
    {
     "data": {
      "text/plain": [
       "     fun: 20.0\n",
       "     jac: array([1., 1., 0., 0.])\n",
       " message: 'Optimization terminated successfully.'\n",
       "    nfev: 6\n",
       "     nit: 1\n",
       "    njev: 1\n",
       "  status: 0\n",
       " success: True\n",
       "       x: array([10., 10., 10., 10.])"
      ]
     },
     "execution_count": 261,
     "metadata": {},
     "output_type": "execute_result"
    }
   ],
   "source": [
    "solution"
   ]
  },
  {
   "cell_type": "code",
   "execution_count": 168,
   "metadata": {
    "collapsed": true
   },
   "outputs": [],
   "source": [
    "def objective(x):\n",
    "    return (x[0] + 5) ** 2 + x[1]\n",
    "\n",
    "def constraint(x):\n",
    "    return x[0] + np.sin(x[1]) - 2, 2 * x[0] - 1\n",
    "\n",
    "x0 = np.zeros(2)\n",
    "bounds = ((0, 100.0), (0.5, 1.0))\n",
    "\n",
    "cons = (\n",
    "    {'type': 'eq', 'fun': lambda i: constraint(x0)[0]},\n",
    "    {'type': 'ineq', 'fun': lambda i: constraint(x0)[1]}\n",
    ")\n"
   ]
  },
  {
   "cell_type": "code",
   "execution_count": 169,
   "metadata": {},
   "outputs": [
    {
     "name": "stdout",
     "output_type": "stream",
     "text": [
      "-2.0\n"
     ]
    }
   ],
   "source": [
    "x = lambda i: constraint(x0)[0]\n",
    "print(x(1))"
   ]
  },
  {
   "cell_type": "code",
   "execution_count": 170,
   "metadata": {
    "collapsed": true
   },
   "outputs": [],
   "source": [
    "solution = minimize(objective, x0, method='SLSQP', bounds=bounds, constraints=cons)"
   ]
  },
  {
   "cell_type": "code",
   "execution_count": 171,
   "metadata": {},
   "outputs": [
    {
     "data": {
      "text/plain": [
       "     fun: 25.5\n",
       "     jac: array([10.,  1.])\n",
       " message: 'Singular matrix C in LSQ subproblem'\n",
       "    nfev: 4\n",
       "     nit: 1\n",
       "    njev: 1\n",
       "  status: 6\n",
       " success: False\n",
       "       x: array([0. , 0.5])"
      ]
     },
     "execution_count": 171,
     "metadata": {},
     "output_type": "execute_result"
    }
   ],
   "source": [
    "solution"
   ]
  },
  {
   "cell_type": "code",
   "execution_count": 94,
   "metadata": {
    "collapsed": true
   },
   "outputs": [],
   "source": [
    "N = 10\n",
    "dt = 0.1\n",
    "Lf = 2.67\n",
    "\n",
    "x_start      = 0\n",
    "y_start      = x_start       + N\n",
    "psi_start    = y_start       + N\n",
    "v_start      = psi_start     + N\n",
    "cte_start    = v_start       + N\n",
    "epsi_start   = cte_start     + N\n",
    "delta_start  = epsi_start    + N\n",
    "a_start      = delta_start   + N - 1"
   ]
  },
  {
   "cell_type": "code",
   "execution_count": 144,
   "metadata": {
    "collapsed": true
   },
   "outputs": [],
   "source": [
    "cte_weight = 2000\n",
    "epsi_weight = 2000\n",
    "v_weight = 100\n",
    "actuator_cost_weight = 10\n",
    "change_steer_cost_weight = 100000\n",
    "change_accel_cost_weight = 10000\n",
    "\n",
    "def objective(vars):\n",
    "    cost = 0\n",
    "    # cost due to difference from reference values\n",
    "    for t in range(N):\n",
    "        cost += cte_weight * (vars[cte_start + t] - ref_cte) ** 2\n",
    "        cost += epsi_weight * (vars[epsi_start + t] - ref_epsi) ** 2\n",
    "        cost += v_weight * (vars[v_start + t] - ref_v) ** 2\n",
    "    \n",
    "    # cost due to magnitude of actuators\n",
    "    for t in range(N-1):\n",
    "        cost += actuator_cost_weight * (vars[delta_start + t]) ** 2\n",
    "        cost += actuator_cost_weight * (vars[a_start + t]) ** 2\n",
    "         \n",
    "    # cost due to magnitude of change in actuators\n",
    "    for t in range(N-2):\n",
    "        cost += change_steer_cost_weight * (vars[delta_start + t + 1] - vars[delta_start + t]) ** 2\n",
    "        cost += change_accel_cost_weight * (vars[a_start + t + 1] - vars[a_start + t]) ** 2\n",
    "     \n",
    "    return cost    "
   ]
  },
  {
   "cell_type": "code",
   "execution_count": null,
   "metadata": {
    "collapsed": true
   },
   "outputs": [],
   "source": [
    "def get_contraints(vars):\n",
    "    constraints = [None] * N * 6\n",
    "    \n",
    "    constraints[x_start] = lambda vars: vars[x_start];\n",
    "    constraints[y_start] = vars[y_start]\n",
    "    constraints[psi_start] = vars[psi_start]\n",
    "    constraints[v_start] = vars[v_start]\n",
    "    constraints[cte_start] = vars[cte_start]\n",
    "    constraints[epsi_start] = vars[epsi_start]\n",
    "    \n",
    "    for t in range(1, N):\n",
    "        # vaues at time (t)\n",
    "        x_0 = vars[x_start + t - 1]\n",
    "        y_0 = vars[y_start + t - 1]\n",
    "        psi_0 = vars[psi_start + t - 1]\n",
    "        v_0 = vars[v_start + t - 1]\n",
    "        cte_0 = vars[cte_start + t - 1]\n",
    "        epsi_0 = vars[epsi_start + t - 1]\n",
    "        \n",
    "        # values at time (t+1)\n",
    "        x1 = vars[x_start + t]\n",
    "        y1 = vars[y_start + t]\n",
    "        psi1 = vars[psi_start + t]\n",
    "        v1 = vars[v_start + t]\n",
    "        cte1 = vars[cte_start + t]\n",
    "        epsi1 = vars[epsi_start + t]\n",
    "        \n",
    "        delta0 = vars[delta_start + t - 1]\n",
    "        a0 = vars[a_start + t - 1]\n",
    "        \n",
    "        f0 = coeffs[0] + coeffs[1] * x0 + coeffs[2] * x0 ** 2 + coeffs[3] * x0 ** 3\n",
    "        psides0 = np.atan(coeffs[1] + 2 * coeffs[2] * x0 + 3 * coeffs[3] * x0 ** 2)\n",
    "        \n",
    "        constraints[x_start + t] = x1 - (x0 + v0 * np.sin(psi0) * dt)\n",
    "        constraints[y_start + t] = y1 - (y0 + v0 * np.sin(psi0) * dt)\n",
    "        constraints[psi_start + t] = psi1 - (psi0 - v0 * delta0 / Lf * dt)\n",
    "        constraints[v_start + t] = v1 - (v0 + a0 * dt)\n",
    "        constraints[cte_start + t] = cte1 - (f0 - y0 + (np.sin(epsi0) * dt))\n",
    "        constraints[epsi_start + t] = epsi1 - (psi0 - psides0 - v0 * delta0 / Lf * dt)\n",
    "        \n",
    "    return constraints\n",
    "\n",
    "\n",
    "\n",
    "cons = (\n",
    "    {'type': 'eq', 'fun': lambda i: constraint(x0)[0]},\n",
    "    {'type': 'ineq', 'fun': lambda i: constraint(x0)[1]}\n",
    ")\n",
    "\n"
   ]
  },
  {
   "cell_type": "code",
   "execution_count": 96,
   "metadata": {
    "collapsed": true
   },
   "outputs": [],
   "source": [
    "n_vars = N * 6 + (N - 1) * 2\n",
    "n_contrains = N * 6"
   ]
  },
  {
   "cell_type": "code",
   "execution_count": 159,
   "metadata": {
    "collapsed": true
   },
   "outputs": [],
   "source": [
    "var = [11, 2, 3]\n",
    "x = lambda vars: vars[x_start]"
   ]
  },
  {
   "cell_type": "code",
   "execution_count": 160,
   "metadata": {},
   "outputs": [
    {
     "data": {
      "text/plain": [
       "11"
      ]
     },
     "execution_count": 160,
     "metadata": {},
     "output_type": "execute_result"
    }
   ],
   "source": [
    "x(var)"
   ]
  },
  {
   "cell_type": "code",
   "execution_count": null,
   "metadata": {
    "collapsed": true
   },
   "outputs": [],
   "source": []
  }
 ],
 "metadata": {
  "kernelspec": {
   "display_name": "Python 3",
   "language": "python",
   "name": "python3"
  },
  "language_info": {
   "codemirror_mode": {
    "name": "ipython",
    "version": 3
   },
   "file_extension": ".py",
   "mimetype": "text/x-python",
   "name": "python",
   "nbconvert_exporter": "python",
   "pygments_lexer": "ipython3",
   "version": "3.5.2"
  }
 },
 "nbformat": 4,
 "nbformat_minor": 2
}
